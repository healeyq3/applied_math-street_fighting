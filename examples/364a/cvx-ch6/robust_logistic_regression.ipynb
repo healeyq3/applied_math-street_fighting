{
 "cells": [
  {
   "cell_type": "code",
   "execution_count": 1,
   "metadata": {},
   "outputs": [],
   "source": [
    "import numpy as np\n",
    "import cvxpy as cp"
   ]
  },
  {
   "cell_type": "code",
   "execution_count": 84,
   "metadata": {},
   "outputs": [],
   "source": [
    "# Data taken from https://github.com/cvxgrp/cvxbook_additional_exercises/blob/main/python/rob_logistic_reg_data.py\n",
    "\n",
    "np.random.seed(0x364a_23F5)\n",
    "d = 40\n",
    "n = 60\n",
    "# epsilon = 0.5\n",
    "# epsilon = 0.75\n",
    "epsilon = 1\n",
    "\n",
    "true_theta = np.random.randn(d)\n",
    "true_X = np.random.randn(n, d)\n",
    "noise = 2 * epsilon * np.random.rand(n, d) - epsilon\n",
    "\n",
    "X = true_X + noise\n",
    "y = np.sign(true_X @ true_theta + 0.1 * np.random.rand(n) - 0.05)\n",
    "\n",
    "true_X_test = np.random.randn(n, d)\n",
    "noise = 2 * epsilon * np.random.rand(n, d) - epsilon\n",
    "\n",
    "X_test = true_X_test + noise\n",
    "y_test = np.sign(true_X_test @ true_theta + 0.1 * np.random.rand(n) - 0.05)"
   ]
  },
  {
   "cell_type": "code",
   "execution_count": 85,
   "metadata": {},
   "outputs": [
    {
     "data": {
      "text/plain": [
       "1.9880240659714824e-09"
      ]
     },
     "execution_count": 85,
     "metadata": {},
     "output_type": "execute_result"
    }
   ],
   "source": [
    "# train a typical logistic classifier\n",
    "theta = cp.Variable(d)\n",
    "lse = cp.logistic\n",
    "\n",
    "loss = cp.sum( [ lse( -y[i] * theta@X[i, :] ) for i in range(n)] )\n",
    "prob = cp.Problem(cp.Minimize(loss), [])\n",
    "prob.solve(solver=cp.CLARABEL)"
   ]
  },
  {
   "cell_type": "code",
   "execution_count": 86,
   "metadata": {},
   "outputs": [
    {
     "name": "stdout",
     "output_type": "stream",
     "text": [
      "60\n"
     ]
    }
   ],
   "source": [
    "# Train Classification\n",
    "num_correct = 0\n",
    "for i in range(X.shape[0]):\n",
    "    y_hat = cp.sign(theta.value @ X[i, :]).value\n",
    "    if y_hat == y[i]:\n",
    "        num_correct += 1\n",
    "print(num_correct)"
   ]
  },
  {
   "cell_type": "code",
   "execution_count": 87,
   "metadata": {},
   "outputs": [
    {
     "name": "stdout",
     "output_type": "stream",
     "text": [
      "39\n"
     ]
    }
   ],
   "source": [
    "num_correct = 0\n",
    "for i in range(X_test.shape[0]):\n",
    "    y_hat = cp.sign(theta.value @ X_test[i, :]).value\n",
    "    if y_hat == y_test[i]:\n",
    "        num_correct += 1\n",
    "print(num_correct)"
   ]
  },
  {
   "cell_type": "code",
   "execution_count": 94,
   "metadata": {},
   "outputs": [
    {
     "data": {
      "text/plain": [
       "4.6770196119973843e-08"
      ]
     },
     "execution_count": 94,
     "metadata": {},
     "output_type": "execute_result"
    }
   ],
   "source": [
    "# train a robust classifier\n",
    "theta_robust = cp.Variable(d)\n",
    "u = cp.Variable(n)\n",
    "\n",
    "lse = cp.logistic\n",
    "\n",
    "loss = cp.sum( [ lse( u[i] ) for i in range(n)] )\n",
    "\n",
    "constrs = [ -y[i]*theta_robust@X[i, :] + cp.norm((-epsilon*y[i]*theta_robust), 'inf') <= u[i]\n",
    "           for i in range(n)]\n",
    "\n",
    "prob = cp.Problem(cp.Minimize(loss), constrs)\n",
    "prob.solve(solver=cp.CLARABEL)"
   ]
  },
  {
   "cell_type": "code",
   "execution_count": 95,
   "metadata": {},
   "outputs": [
    {
     "name": "stdout",
     "output_type": "stream",
     "text": [
      "60\n"
     ]
    }
   ],
   "source": [
    "# Train Classification\n",
    "num_correct = 0\n",
    "for i in range(X.shape[0]):\n",
    "    y_hat = cp.sign(theta_robust.value @ X[i, :]).value\n",
    "    if y_hat == y[i]:\n",
    "        num_correct += 1\n",
    "print(num_correct)"
   ]
  },
  {
   "cell_type": "code",
   "execution_count": 96,
   "metadata": {},
   "outputs": [
    {
     "name": "stdout",
     "output_type": "stream",
     "text": [
      "43\n"
     ]
    }
   ],
   "source": [
    "num_correct = 0\n",
    "for i in range(X_test.shape[0]):\n",
    "    y_hat = cp.sign(theta_robust.value @ X_test[i, :]).value\n",
    "    if y_hat == y_test[i]:\n",
    "        num_correct += 1\n",
    "print(num_correct)"
   ]
  },
  {
   "cell_type": "code",
   "execution_count": null,
   "metadata": {},
   "outputs": [],
   "source": []
  }
 ],
 "metadata": {
  "kernelspec": {
   "display_name": "boyd_linear-algebra",
   "language": "python",
   "name": "python3"
  },
  "language_info": {
   "codemirror_mode": {
    "name": "ipython",
    "version": 3
   },
   "file_extension": ".py",
   "mimetype": "text/x-python",
   "name": "python",
   "nbconvert_exporter": "python",
   "pygments_lexer": "ipython3",
   "version": "3.11.7"
  }
 },
 "nbformat": 4,
 "nbformat_minor": 2
}
