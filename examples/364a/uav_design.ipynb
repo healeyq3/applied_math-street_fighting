{
 "cells": [
  {
   "cell_type": "code",
   "execution_count": 1,
   "metadata": {},
   "outputs": [],
   "source": [
    "import numpy as np\n",
    "import cvxpy as cp"
   ]
  },
  {
   "cell_type": "code",
   "execution_count": 2,
   "metadata": {},
   "outputs": [],
   "source": [
    "# Problem Data from https://github.com/cvxgrp/cvxbook_additional_exercises/blob/main/python/uav_design_data.py\n",
    "K = 5    # number of missions\n",
    "D = np.array([1.2e5, 4.5e5, 5.2e5, 2.4e5, 1.1e6])      # m\n",
    "V = np.array([8.2e1, 5.5e1, 6.5e1, 7e1, 4.8e1])        # m/s\n",
    "W_pay = np.array([2.5e1, 3.2e1, 3.2e1, 5.7e1, 9.3e0])  # kg\n",
    "\n",
    "W_eng_min = 5      # kg\n",
    "W_eng_max = 50     # kg\n",
    "W_bat_min = 10     # kg\n",
    "W_bat_max = 100    # kg\n",
    "S_min = 8          # m^2\n",
    "S_max = 30         # m^2\n",
    "alpha_max = 6      # degrees\n",
    "\n",
    "# Used specs from the below links for reference.\n",
    "# (1) https://physicsworld.com/a/lithium-ion-batteries-break-energy-density-record/\n",
    "# (2) https://en.wikipedia.org/wiki/Power-to-weight_ratio#Electric_motors_and_electromotive_generators\n",
    "# (3) https://www2.eecs.berkeley.edu/Pubs/TechRpts/2015/EECS-2015-22.pdf\n",
    "# (4) https://en.wikipedia.org/wiki/Angle_of_attack#/media/File:Coefficients_of_Drag_and_Lift_vs_AOA.jpg\n",
    "# (5) https://en.wikipedia.org/wiki/Boeing_747#Specifications\n",
    "W_base = 100.   # kg\n",
    "CW = 5.         # dimensionless    (5)\n",
    "cL = 0.08       # dimensionless    (4)\n",
    "cD0 = 0.0005    # dimensionless    (4)\n",
    "cD1 = 0.02      # dimensionless    (4)\n",
    "CP = 0.002      # dimensionless    (2)\n",
    "CE = 2.5e6      # J/kg             (1)\n",
    "rho = 0.91      # kg/m^3           (3)"
   ]
  },
  {
   "cell_type": "code",
   "execution_count": 3,
   "metadata": {},
   "outputs": [],
   "source": [
    "def C_L(alpha):\n",
    "    return cL*alpha\n",
    "\n",
    "def C_D(alpha):\n",
    "    return cD1 + cD0*alpha**2"
   ]
  },
  {
   "cell_type": "code",
   "execution_count": 4,
   "metadata": {},
   "outputs": [
    {
     "name": "stderr",
     "output_type": "stream",
     "text": [
      "/Users/q3/opt/anaconda3/envs/boyd_linear-algebra/lib/python3.11/site-packages/cvxpy/reductions/solvers/solving_chain.py:336: FutureWarning: \n",
      "    Your problem is being solved with the ECOS solver by default. Starting in \n",
      "    CVXPY 1.5.0, Clarabel will be used as the default solver instead. To continue \n",
      "    using ECOS, specify the ECOS solver explicitly using the ``solver=cp.ECOS`` \n",
      "    argument to the ``problem.solve`` method.\n",
      "    \n",
      "  warnings.warn(ECOS_DEPRECATION_MSG, FutureWarning)\n"
     ]
    },
    {
     "data": {
      "text/plain": [
       "6005.911367450539"
      ]
     },
     "execution_count": 4,
     "metadata": {},
     "output_type": "execute_result"
    }
   ],
   "source": [
    "### optimization variables ###\n",
    "W_eng = cp.Variable(1, pos=True)\n",
    "W_bat = cp.Variable(1, pos=True)\n",
    "S = cp.Variable(1, pos=True)\n",
    "P = cp.Variable(K, pos=True)\n",
    "alpha = cp.Variable(K, pos=True)\n",
    "\n",
    "### derived expressions ###\n",
    "W_wing = CW*S**(1.2)\n",
    "W_k = [W_bat + W_eng + W_wing + W_base + W_pay[k] for k in range(K)]\n",
    "P_max = ((1/CP)**(1/0.803)) * (W_eng**(1/0.803))\n",
    "F_k_lift = [0.5*rho* V[k]**2 * C_L(alpha[k]) * S for k in range(K)]\n",
    "F_k_drag = [0.5*rho * V[k]**2 * C_D(alpha[k])*S for k in range(K)]\n",
    "T_k = [P[k] * (1/V[k]) for k in range(K)]\n",
    "E = CE*W_bat\n",
    "C_des = 100*W_eng + 45*W_bat + 2 * W_wing\n",
    "C_mis = cp.sum([T_k[k] + 10*alpha[k] for k in range(K)])\n",
    "### ###\n",
    "\n",
    "### constraints and objective ###\n",
    "constraints = [W_eng_min <= W_eng, W_eng <= W_eng_max,\n",
    "               W_bat_min <= W_bat, W_bat <= W_bat_max,\n",
    "               S_min <= S, S <= S_max]\n",
    "constraints += [constr for constr_tuple in [(P[k] <= P_max,\n",
    "                 alpha[k] <= alpha_max) for k in range(K)]\n",
    "                 for constr in constr_tuple]\n",
    "constraints += [F_k_lift[k] >= W_k[k] for k in range(K)]\n",
    "constraints += [F_k_drag[k] <= T_k[k] for k in range(K)]\n",
    "constraints += [P[k] * D[k] * (1/V[k]) <= E for k in range(K)]\n",
    "\n",
    "obj = cp.Minimize(C_des + C_mis)\n",
    "prob = cp.Problem(obj, constraints)\n",
    "# print(prob.is_dgp()) # useful for debugging: comment out constraint blocks and run this\n",
    "prob.solve(gp=True)"
   ]
  },
  {
   "cell_type": "code",
   "execution_count": 5,
   "metadata": {},
   "outputs": [
    {
     "name": "stdout",
     "output_type": "stream",
     "text": [
      "Design Cost: [4449.32439313]\n",
      "Mission Cost: 1556.586974325188\n"
     ]
    }
   ],
   "source": [
    "print(f'Design Cost: {C_des.value}')\n",
    "print(f'Mission Cost: {C_mis.value}')"
   ]
  },
  {
   "cell_type": "code",
   "execution_count": 18,
   "metadata": {},
   "outputs": [
    {
     "name": "stdout",
     "output_type": "stream",
     "text": [
      "True\n",
      "True\n",
      "True\n",
      "True\n",
      "True\n"
     ]
    }
   ],
   "source": [
    "for k in range(K):\n",
    "    print(np.abs(F_k_drag[k][0].value - T_k[k].value) < 1e-5)"
   ]
  },
  {
   "cell_type": "code",
   "execution_count": 21,
   "metadata": {},
   "outputs": [
    {
     "name": "stdout",
     "output_type": "stream",
     "text": [
      "[ True]\n",
      "[ True]\n",
      "[ True]\n",
      "[ True]\n",
      "[ True]\n"
     ]
    }
   ],
   "source": [
    "for k in range(K):\n",
    "    print(np.abs(F_k_lift[k][0].value - W_k[k].value) < 1e-2)"
   ]
  },
  {
   "cell_type": "code",
   "execution_count": 13,
   "metadata": {},
   "outputs": [
    {
     "name": "stdout",
     "output_type": "stream",
     "text": [
      "489.73928888082395\n",
      "220.76301919551952\n",
      "307.9687903368573\n",
      "357.11855911547593\n",
      "168.33194244245712\n"
     ]
    }
   ],
   "source": [
    "for drag in F_k_drag:\n",
    "    print(drag[0].value)"
   ]
  },
  {
   "cell_type": "code",
   "execution_count": 25,
   "metadata": {},
   "outputs": [
    {
     "name": "stdout",
     "output_type": "stream",
     "text": [
      "489.739289540237\n",
      "220.76302847287894\n",
      "307.96879910517447\n",
      "357.1185675911295\n",
      "168.33194213679587\n"
     ]
    }
   ],
   "source": [
    "for tk in T_k:\n",
    "    print(tk.value)"
   ]
  },
  {
   "cell_type": "code",
   "execution_count": 23,
   "metadata": {},
   "outputs": [
    {
     "name": "stdout",
     "output_type": "stream",
     "text": [
      "269.6478752165577\n",
      "276.6470324215976\n",
      "276.64758234779765\n",
      "301.64783993821214\n",
      "253.94584559160754\n"
     ]
    }
   ],
   "source": [
    "for lift in F_k_lift:\n",
    "    print(lift[0].value)"
   ]
  },
  {
   "cell_type": "code",
   "execution_count": 22,
   "metadata": {},
   "outputs": [
    {
     "name": "stdout",
     "output_type": "stream",
     "text": [
      "269.645663356979\n",
      "276.645663356979\n",
      "276.645663356979\n",
      "301.645663356979\n",
      "253.94566335697903\n"
     ]
    }
   ],
   "source": [
    "for weight in W_k:\n",
    "    print(weight[0].value)"
   ]
  },
  {
   "cell_type": "code",
   "execution_count": 6,
   "metadata": {},
   "outputs": [
    {
     "name": "stdout",
     "output_type": "stream",
     "text": [
      "40158.62174229943\n",
      "12141.966566008343\n",
      "20017.97194183634\n",
      "24998.299731379066\n",
      "8079.933222566203\n"
     ]
    }
   ],
   "source": [
    "for p_k in P:\n",
    "    print(p_k.value)"
   ]
  },
  {
   "cell_type": "code",
   "execution_count": 8,
   "metadata": {},
   "outputs": [
    {
     "name": "stdout",
     "output_type": "stream",
     "text": [
      "0.13771394751546792\n",
      "0.3140575703917646\n",
      "0.2248582340634128\n",
      "0.2114037901856076\n",
      "0.3785012057409691\n"
     ]
    }
   ],
   "source": [
    "for a_k in alpha:\n",
    "    print(a_k.value)"
   ]
  },
  {
   "cell_type": "code",
   "execution_count": 9,
   "metadata": {},
   "outputs": [
    {
     "data": {
      "text/plain": [
       "array([9.95094608])"
      ]
     },
     "execution_count": 9,
     "metadata": {},
     "output_type": "execute_result"
    }
   ],
   "source": [
    "W_eng.value"
   ]
  },
  {
   "cell_type": "code",
   "execution_count": 10,
   "metadata": {},
   "outputs": [
    {
     "data": {
      "text/plain": [
       "array([74.06605467])"
      ]
     },
     "execution_count": 10,
     "metadata": {},
     "output_type": "execute_result"
    }
   ],
   "source": [
    "W_bat.value"
   ]
  },
  {
   "cell_type": "code",
   "execution_count": 11,
   "metadata": {},
   "outputs": [
    {
     "data": {
      "text/plain": [
       "array([7.99999999])"
      ]
     },
     "execution_count": 11,
     "metadata": {},
     "output_type": "execute_result"
    }
   ],
   "source": [
    "S.value"
   ]
  },
  {
   "cell_type": "code",
   "execution_count": null,
   "metadata": {},
   "outputs": [],
   "source": []
  }
 ],
 "metadata": {
  "kernelspec": {
   "display_name": "boyd_linear-algebra",
   "language": "python",
   "name": "python3"
  },
  "language_info": {
   "codemirror_mode": {
    "name": "ipython",
    "version": 3
   },
   "file_extension": ".py",
   "mimetype": "text/x-python",
   "name": "python",
   "nbconvert_exporter": "python",
   "pygments_lexer": "ipython3",
   "version": "3.11.7"
  }
 },
 "nbformat": 4,
 "nbformat_minor": 2
}
