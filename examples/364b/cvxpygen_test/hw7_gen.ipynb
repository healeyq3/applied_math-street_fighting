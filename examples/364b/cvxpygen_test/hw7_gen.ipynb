{
 "cells": [
  {
   "cell_type": "code",
   "execution_count": 52,
   "metadata": {},
   "outputs": [],
   "source": [
    "from typing import Tuple\n",
    "\n",
    "import numpy as np\n",
    "import matplotlib.pyplot as plt\n",
    "import cvxpy as cp\n",
    "from cvxpygen import cpg"
   ]
  },
  {
   "cell_type": "code",
   "execution_count": 33,
   "metadata": {},
   "outputs": [],
   "source": [
    "# DATA - adjust time to work well.\n",
    "A = np.array([[1, 1, 0],\n",
    "              [0, 1, 1],\n",
    "              [0, 0, 1]])\n",
    "B = np.array([[0, 0.5, 1]]).T\n",
    "C = np.array([[-1, 0, 1]])\n",
    "T = 100\n",
    "n=3\n",
    "m=1\n",
    "p=1\n",
    "U_max = 0.1\n",
    "y_des = np.zeros((150, 1)) # add extra zeros for receeding horizon instances\n",
    "y_des[29:69, :] = 10 #29-70 sets indices 29-68 to 10, corresponding to times t=30 to t = 69"
   ]
  },
  {
   "cell_type": "code",
   "execution_count": 47,
   "metadata": {},
   "outputs": [],
   "source": [
    "def optimize_traj(\n",
    "    A: np.ndarray,\n",
    "    B: np.ndarray,\n",
    "    C: np.ndarray,\n",
    "    H: int,\n",
    "    U_max: float\n",
    ") -> Tuple[cp.Problem, cp.Parameter, cp.Parameter, cp.Variable]:\n",
    "    \"\"\"\n",
    "    \n",
    "    Minimize tracking output error.\n",
    "\n",
    "    LDS given by (MPC form)\n",
    "    x_{tau + 1} = A @ x_tau + B @ u_tau  tau = t, ..., H-1 \n",
    "    y_tau = C @ x_tau  tau = t+1, ..., H\n",
    "\n",
    "    :param A: Dynamics Matrix\n",
    "    :param B: Control Matrix\n",
    "    :param C: Output Matrix\n",
    "    :param H: amount of look-ahead in epochs\n",
    "    :param U_max: upper bound on input\n",
    "    \"\"\"\n",
    "    n = A.shape[0]\n",
    "    m = B.shape[1]\n",
    "    p = C.shape[0]\n",
    "\n",
    "    x = cp.Variable((n, H+1))\n",
    "    u = cp.Variable((m, H))\n",
    "\n",
    "    x_init = cp.Parameter(n)\n",
    "    y_des = cp.Parameter((H, p))\n",
    "\n",
    "    # J_output = cp.sum_squares( cp.vstack( [ C@x[:, tau] - y_des[tau + t.value - 1, :]\n",
    "    #                                        for tau in range(1, H+1)] ) )\n",
    "    J_output = cp.sum_squares( cp.vstack( [C@x[:, tau] - y_des[tau -1, :]\n",
    "                                           for tau in range(1, H+1)] ) )\n",
    "    \n",
    "    constr = [x[:, 0] == x_init]\n",
    "    for tau in range(H):\n",
    "        constr += [ x[:, tau+1] == A@x[:, tau] + B@u[:, tau],\n",
    "                   cp.norm(u[:, tau], 'inf') <= U_max ]\n",
    "        \n",
    "    prob = cp.Problem(cp.Minimize(J_output), constr)\n",
    "    return (prob, x_init, y_des, u)\n"
   ]
  },
  {
   "cell_type": "code",
   "execution_count": 46,
   "metadata": {},
   "outputs": [
    {
     "data": {
      "text/plain": [
       "(110, 1)"
      ]
     },
     "execution_count": 46,
     "metadata": {},
     "output_type": "execute_result"
    }
   ],
   "source": [
    "y_des[0:, :][10:(10+110), :].shape"
   ]
  },
  {
   "cell_type": "code",
   "execution_count": 56,
   "metadata": {},
   "outputs": [],
   "source": [
    "U_traj = np.zeros((m, T))\n",
    "Y_traj = np.zeros((m, T))\n",
    "soln_times = np.zeros(T)\n",
    "J_output = 0\n",
    "xi = np.zeros(n)\n",
    "\n",
    "# Initialize problem\n",
    "parameterized_problem, x_init, y_des_param, u = optimize_traj(A, B, C, 12, U_max)\n",
    "x_init.value = xi\n",
    "y_des_param.value = y_des[0:12, :]\n",
    "parameterized_problem.solve(solver='ECOS')\n",
    "U_traj[:, 0] = u.value[:, 0]\n",
    "soln_times[0] = parameterized_problem.solver_stats.solve_time\n",
    "xi = A@xi + B@u.value[:, 0]\n",
    "Y_traj[:, 0] = C@xi\n",
    "\n",
    "for epoch in range(1, T):\n",
    "    x_init.value = xi\n",
    "    y_des_param.value = y_des[epoch:(epoch+12), :]\n",
    "    parameterized_problem.solve(solver='ECOS')\n",
    "    U_traj[:, epoch] = u.value[:, 0]\n",
    "    soln_times[epoch] = parameterized_problem.solver_stats.solve_time\n",
    "    xi = A@xi + B@u.value[:, 0]\n",
    "    y = C@xi\n",
    "    Y_traj[:, epoch] = y\n",
    "    J_output += cp.sum_squares(y - y_des[epoch, :]).value"
   ]
  },
  {
   "cell_type": "code",
   "execution_count": 57,
   "metadata": {},
   "outputs": [
    {
     "data": {
      "text/plain": [
       "119.52482209045469"
      ]
     },
     "execution_count": 57,
     "metadata": {},
     "output_type": "execute_result"
    }
   ],
   "source": [
    "J_output"
   ]
  },
  {
   "cell_type": "code",
   "execution_count": 58,
   "metadata": {},
   "outputs": [
    {
     "data": {
      "text/plain": [
       "'ECOS'"
      ]
     },
     "execution_count": 58,
     "metadata": {},
     "output_type": "execute_result"
    }
   ],
   "source": [
    "parameterized_problem.solver_stats.solver_name"
   ]
  },
  {
   "cell_type": "code",
   "execution_count": 50,
   "metadata": {},
   "outputs": [
    {
     "data": {
      "image/png": "[encoded data removed]",
      "text/plain": [
       "<Figure size 640x480 with 1 Axes>"
      ]
     },
     "metadata": {},
     "output_type": "display_data"
    }
   ],
   "source": [
    "plt.plot(np.arange(T), Y_traj.flatten(), label=\"$y_{N=12}$\")\n",
    "\n",
    "plt.xlabel('$t$')\n",
    "plt.ylabel('$y(t)$')\n",
    "plt.xlim(right=100)\n",
    "# plt.title('Output Trajectories')\n",
    "plt.legend()\n",
    "\n",
    "\n",
    "plt.show()"
   ]
  },
  {
   "cell_type": "code",
   "execution_count": 51,
   "metadata": {},
   "outputs": [
    {
     "data": {
      "image/png": "[encoded data removed]",
      "text/plain": [
       "<Figure size 640x480 with 1 Axes>"
      ]
     },
     "metadata": {},
     "output_type": "display_data"
    }
   ],
   "source": [
    "# plt.plot(np.arange(len(y_des)), y_des, label=\"$y_{\\\\text{desired}}$\")\n",
    "# plt.plot(np.arange(T), y_traj_opt.flatten(), label=\"$y_{\\\\text{opt}}$\")\n",
    "# plt.plot(np.arange(T), y_traj8.flatten(), label=\"$y_{N=8}$\")\n",
    "# plt.plot(np.arange(T), y_traj10.flatten(), label=\"$y_{N=10}$\")\n",
    "plt.plot(np.arange(T), soln_times, label=\"$y_{N=12}$\")\n",
    "\n",
    "plt.xlabel('$t$')\n",
    "plt.ylabel('$y(t)$')\n",
    "plt.xlim(right=100)\n",
    "# plt.title('Output Trajectories')\n",
    "plt.legend()\n",
    "\n",
    "\n",
    "plt.show()"
   ]
  },
  {
   "cell_type": "markdown",
   "metadata": {},
   "source": [
    "# Generate C Code"
   ]
  },
  {
   "cell_type": "code",
   "execution_count": 59,
   "metadata": {},
   "outputs": [
    {
     "name": "stdout",
     "output_type": "stream",
     "text": [
      "Generating code with CVXPYgen ...\n",
      "CVXPYgen finished generating code.\n",
      "Compiling python wrapper with CVXPYgen ... \n"
     ]
    },
    {
     "name": "stderr",
     "output_type": "stream",
     "text": [
      "/Users/q3/opt/anaconda3/envs/boyd_linear-algebra/lib/python3.11/site-packages/setuptools/__init__.py:80: _DeprecatedInstaller: setuptools.installer and fetch_build_eggs are deprecated.\n",
      "!!\n",
      "\n",
      "        ********************************************************************************\n",
      "        Requirements should be satisfied by a PEP 517 installer.\n",
      "        If you are using pip, you can try `pip install --use-pep517`.\n",
      "        ********************************************************************************\n",
      "\n",
      "!!\n",
      "  dist.fetch_build_eggs(dist.setup_requires)\n"
     ]
    },
    {
     "name": "stdout",
     "output_type": "stream",
     "text": [
      "-- The C compiler identification is AppleClang 15.0.0.15000309\n",
      "-- The CXX compiler identification is AppleClang 15.0.0.15000309\n",
      "-- Detecting C compiler ABI info\n",
      "-- Detecting C compiler ABI info - done\n",
      "-- Check for working C compiler: /Library/Developer/CommandLineTools/usr/bin/cc - skipped\n",
      "-- Detecting C compile features\n",
      "-- Detecting C compile features - done\n",
      "-- Detecting CXX compiler ABI info\n",
      "-- Detecting CXX compiler ABI info - done\n",
      "-- Check for working CXX compiler: /Library/Developer/CommandLineTools/usr/bin/c++ - skipped\n",
      "-- Detecting CXX compile features\n",
      "-- Detecting CXX compile features - done\n",
      "-- Configuring done (7.5s)\n",
      "-- Generating done (0.1s)\n",
      "-- Build files have been written to: /Users/q3/Documents/Memex2/Optimization/convex-notes/examples/364b/cvxpygen_test/mpc_controller/c/build\n",
      "[  3%] \u001b[32mBuilding C object CMakeFiles/cpg.dir/src/cpg_workspace.c.o\u001b[0m\n",
      "[  6%] \u001b[32mBuilding C object CMakeFiles/cpg.dir/src/cpg_solve.c.o\u001b[0m\n",
      "[ 10%] \u001b[32mBuilding C object CMakeFiles/cpg.dir/solver_code/external/amd/src/amd_1.c.o\u001b[0m\n",
      "[ 13%] \u001b[32mBuilding C object CMakeFiles/cpg.dir/solver_code/external/amd/src/amd_2.c.o\u001b[0m\n",
      "[ 16%] \u001b[32mBuilding C object CMakeFiles/cpg.dir/solver_code/external/amd/src/amd_aat.c.o\u001b[0m\n",
      "[ 20%] \u001b[32mBuilding C object CMakeFiles/cpg.dir/solver_code/external/amd/src/amd_control.c.o\u001b[0m\n",
      "[ 23%] \u001b[32mBuilding C object CMakeFiles/cpg.dir/solver_code/external/amd/src/amd_defaults.c.o\u001b[0m\n",
      "[ 26%] \u001b[32mBuilding C object CMakeFiles/cpg.dir/solver_code/external/amd/src/amd_dump.c.o\u001b[0m\n",
      "[ 30%] \u001b[32mBuilding C object CMakeFiles/cpg.dir/solver_code/external/amd/src/amd_global.c.o\u001b[0m\n",
      "[ 33%] \u001b[32mBuilding C object CMakeFiles/cpg.dir/solver_code/external/amd/src/amd_info.c.o\u001b[0m\n",
      "[ 36%] \u001b[32mBuilding C object CMakeFiles/cpg.dir/solver_code/external/amd/src/amd_order.c.o\u001b[0m\n",
      "[ 40%] \u001b[32mBuilding C object CMakeFiles/cpg.dir/solver_code/external/amd/src/amd_post_tree.c.o\u001b[0m\n",
      "[ 43%] \u001b[32mBuilding C object CMakeFiles/cpg.dir/solver_code/external/amd/src/amd_postorder.c.o\u001b[0m\n",
      "[ 46%] \u001b[32mBuilding C object CMakeFiles/cpg.dir/solver_code/external/amd/src/amd_preprocess.c.o\u001b[0m\n",
      "[ 50%] \u001b[32mBuilding C object CMakeFiles/cpg.dir/solver_code/external/amd/src/amd_valid.c.o\u001b[0m\n",
      "[ 53%] \u001b[32mBuilding C object CMakeFiles/cpg.dir/solver_code/external/ldl/src/ldl.c.o\u001b[0m\n",
      "[ 56%] \u001b[32mBuilding C object CMakeFiles/cpg.dir/solver_code/src/cone.c.o\u001b[0m\n",
      "[ 60%] \u001b[32mBuilding C object CMakeFiles/cpg.dir/solver_code/src/ctrlc.c.o\u001b[0m\n",
      "[ 63%] \u001b[32mBuilding C object CMakeFiles/cpg.dir/solver_code/src/ecos.c.o\u001b[0m\n",
      "[ 66%] \u001b[32mBuilding C object CMakeFiles/cpg.dir/solver_code/src/equil.c.o\u001b[0m\n",
      "[ 70%] \u001b[32mBuilding C object CMakeFiles/cpg.dir/solver_code/src/expcone.c.o\u001b[0m\n",
      "[ 73%] \u001b[32mBuilding C object CMakeFiles/cpg.dir/solver_code/src/kkt.c.o\u001b[0m\n",
      "[ 76%] \u001b[32mBuilding C object CMakeFiles/cpg.dir/solver_code/src/preproc.c.o\u001b[0m\n",
      "[ 80%] \u001b[32mBuilding C object CMakeFiles/cpg.dir/solver_code/src/spla.c.o\u001b[0m\n",
      "[ 83%] \u001b[32mBuilding C object CMakeFiles/cpg.dir/solver_code/src/splamm.c.o\u001b[0m\n",
      "[ 86%] \u001b[32mBuilding C object CMakeFiles/cpg.dir/solver_code/src/timer.c.o\u001b[0m\n",
      "[ 90%] \u001b[32mBuilding C object CMakeFiles/cpg.dir/solver_code/src/wright_omega.c.o\u001b[0m\n",
      "[ 93%] \u001b[32mBuilding C object CMakeFiles/cpg.dir/solver_code/ecos_bb/ecos_bb.c.o\u001b[0m\n",
      "[ 96%] \u001b[32mBuilding C object CMakeFiles/cpg.dir/solver_code/ecos_bb/ecos_bb_preproc.c.o\u001b[0m\n",
      "[100%] \u001b[32m\u001b[1mLinking C static library out/libcpg.a\u001b[0m\n"
     ]
    },
    {
     "name": "stderr",
     "output_type": "stream",
     "text": [
      "/Library/Developer/CommandLineTools/usr/bin/ranlib: file: out/libcpg.a(amd_dump.c.o) has no symbols\n",
      "/Library/Developer/CommandLineTools/usr/bin/ranlib: file: out/libcpg.a(ctrlc.c.o) has no symbols\n",
      "/Library/Developer/CommandLineTools/usr/bin/ranlib: file: out/libcpg.a(amd_dump.c.o) has no symbols\n",
      "/Library/Developer/CommandLineTools/usr/bin/ranlib: file: out/libcpg.a(ctrlc.c.o) has no symbols\n"
     ]
    },
    {
     "name": "stdout",
     "output_type": "stream",
     "text": [
      "[100%] Built target cpg\n",
      "CVXPYgen finished compiling python wrapper.\n"
     ]
    },
    {
     "name": "stderr",
     "output_type": "stream",
     "text": [
      "ld: warning: duplicate -rpath '/Users/q3/opt/anaconda3/envs/boyd_linear-algebra/lib' ignored\n",
      "ld: warning: object file (/Users/q3/Documents/Memex2/Optimization/convex-notes/examples/364b/cvxpygen_test/mpc_controller/c/build/out/libcpg.a[2](cpg_workspace.c.o)) was built for newer 'macOS' version (14.0) than being linked (10.9)\n",
      "ld: warning: object file (/Users/q3/Documents/Memex2/Optimization/convex-notes/examples/364b/cvxpygen_test/mpc_controller/c/build/out/libcpg.a[3](cpg_solve.c.o)) was built for newer 'macOS' version (14.0) than being linked (10.9)\n",
      "ld: warning: object file (/Users/q3/Documents/Memex2/Optimization/convex-notes/examples/364b/cvxpygen_test/mpc_controller/c/build/out/libcpg.a[4](amd_1.c.o)) was built for newer 'macOS' version (14.0) than being linked (10.9)\n",
      "ld: warning: object file (/Users/q3/Documents/Memex2/Optimization/convex-notes/examples/364b/cvxpygen_test/mpc_controller/c/build/out/libcpg.a[5](amd_2.c.o)) was built for newer 'macOS' version (14.0) than being linked (10.9)\n",
      "ld: warning: object file (/Users/q3/Documents/Memex2/Optimization/convex-notes/examples/364b/cvxpygen_test/mpc_controller/c/build/out/libcpg.a[6](amd_aat.c.o)) was built for newer 'macOS' version (14.0) than being linked (10.9)\n",
      "ld: warning: object file (/Users/q3/Documents/Memex2/Optimization/convex-notes/examples/364b/cvxpygen_test/mpc_controller/c/build/out/libcpg.a[8](amd_defaults.c.o)) was built for newer 'macOS' version (14.0) than being linked (10.9)\n",
      "ld: warning: object file (/Users/q3/Documents/Memex2/Optimization/convex-notes/examples/364b/cvxpygen_test/mpc_controller/c/build/out/libcpg.a[10](amd_global.c.o)) was built for newer 'macOS' version (14.0) than being linked (10.9)\n",
      "ld: warning: object file (/Users/q3/Documents/Memex2/Optimization/convex-notes/examples/364b/cvxpygen_test/mpc_controller/c/build/out/libcpg.a[12](amd_order.c.o)) was built for newer 'macOS' version (14.0) than being linked (10.9)\n",
      "ld: warning: object file (/Users/q3/Documents/Memex2/Optimization/convex-notes/examples/364b/cvxpygen_test/mpc_controller/c/build/out/libcpg.a[13](amd_post_tree.c.o)) was built for newer 'macOS' version (14.0) than being linked (10.9)\n",
      "ld: warning: object file (/Users/q3/Documents/Memex2/Optimization/convex-notes/examples/364b/cvxpygen_test/mpc_controller/c/build/out/libcpg.a[14](amd_postorder.c.o)) was built for newer 'macOS' version (14.0) than being linked (10.9)\n",
      "ld: warning: object file (/Users/q3/Documents/Memex2/Optimization/convex-notes/examples/364b/cvxpygen_test/mpc_controller/c/build/out/libcpg.a[15](amd_preprocess.c.o)) was built for newer 'macOS' version (14.0) than being linked (10.9)\n",
      "ld: warning: object file (/Users/q3/Documents/Memex2/Optimization/convex-notes/examples/364b/cvxpygen_test/mpc_controller/c/build/out/libcpg.a[16](amd_valid.c.o)) was built for newer 'macOS' version (14.0) than being linked (10.9)\n",
      "ld: warning: object file (/Users/q3/Documents/Memex2/Optimization/convex-notes/examples/364b/cvxpygen_test/mpc_controller/c/build/out/libcpg.a[17](ldl.c.o)) was built for newer 'macOS' version (14.0) than being linked (10.9)\n",
      "ld: warning: object file (/Users/q3/Documents/Memex2/Optimization/convex-notes/examples/364b/cvxpygen_test/mpc_controller/c/build/out/libcpg.a[18](cone.c.o)) was built for newer 'macOS' version (14.0) than being linked (10.9)\n",
      "ld: warning: object file (/Users/q3/Documents/Memex2/Optimization/convex-notes/examples/364b/cvxpygen_test/mpc_controller/c/build/out/libcpg.a[20](ecos.c.o)) was built for newer 'macOS' version (14.0) than being linked (10.9)\n",
      "ld: warning: object file (/Users/q3/Documents/Memex2/Optimization/convex-notes/examples/364b/cvxpygen_test/mpc_controller/c/build/out/libcpg.a[21](equil.c.o)) was built for newer 'macOS' version (14.0) than being linked (10.9)\n",
      "ld: warning: object file (/Users/q3/Documents/Memex2/Optimization/convex-notes/examples/364b/cvxpygen_test/mpc_controller/c/build/out/libcpg.a[22](expcone.c.o)) was built for newer 'macOS' version (14.0) than being linked (10.9)\n",
      "ld: warning: object file (/Users/q3/Documents/Memex2/Optimization/convex-notes/examples/364b/cvxpygen_test/mpc_controller/c/build/out/libcpg.a[23](kkt.c.o)) was built for newer 'macOS' version (14.0) than being linked (10.9)\n",
      "ld: warning: object file (/Users/q3/Documents/Memex2/Optimization/convex-notes/examples/364b/cvxpygen_test/mpc_controller/c/build/out/libcpg.a[24](preproc.c.o)) was built for newer 'macOS' version (14.0) than being linked (10.9)\n",
      "ld: warning: object file (/Users/q3/Documents/Memex2/Optimization/convex-notes/examples/364b/cvxpygen_test/mpc_controller/c/build/out/libcpg.a[25](spla.c.o)) was built for newer 'macOS' version (14.0) than being linked (10.9)\n",
      "ld: warning: object file (/Users/q3/Documents/Memex2/Optimization/convex-notes/examples/364b/cvxpygen_test/mpc_controller/c/build/out/libcpg.a[26](splamm.c.o)) was built for newer 'macOS' version (14.0) than being linked (10.9)\n",
      "ld: warning: object file (/Users/q3/Documents/Memex2/Optimization/convex-notes/examples/364b/cvxpygen_test/mpc_controller/c/build/out/libcpg.a[27](timer.c.o)) was built for newer 'macOS' version (14.0) than being linked (10.9)\n",
      "ld: warning: object file (/Users/q3/Documents/Memex2/Optimization/convex-notes/examples/364b/cvxpygen_test/mpc_controller/c/build/out/libcpg.a[28](wright_omega.c.o)) was built for newer 'macOS' version (14.0) than being linked (10.9)\n"
     ]
    }
   ],
   "source": [
    "parameterized_problem, x_init, y_des_param, u = optimize_traj(A, B, C, 12, U_max)\n",
    "cpg.generate_code(parameterized_problem, code_dir='mpc_controller', solver='ECOS')"
   ]
  },
  {
   "cell_type": "code",
   "execution_count": null,
   "metadata": {},
   "outputs": [],
   "source": []
  }
 ],
 "metadata": {
  "kernelspec": {
   "display_name": "boyd_linear-algebra",
   "language": "python",
   "name": "python3"
  },
  "language_info": {
   "codemirror_mode": {
    "name": "ipython",
    "version": 3
   },
   "file_extension": ".py",
   "mimetype": "text/x-python",
   "name": "python",
   "nbconvert_exporter": "python",
   "pygments_lexer": "ipython3",
   "version": "3.11.7"
  }
 },
 "nbformat": 4,
 "nbformat_minor": 2
}
