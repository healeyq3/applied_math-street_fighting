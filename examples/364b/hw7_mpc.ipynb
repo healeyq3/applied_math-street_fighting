{
 "cells": [
  {
   "cell_type": "code",
   "execution_count": 1,
   "metadata": {},
   "outputs": [],
   "source": [
    "import sys\n",
    "import os\n",
    "sys.path.append(os.path.abspath('../utilities'))"
   ]
  },
  {
   "cell_type": "code",
   "execution_count": 2,
   "metadata": {},
   "outputs": [],
   "source": [
    "import numpy as np\n",
    "import matplotlib.pyplot as plt\n",
    "import cvxpy as cp\n",
    "\n",
    "from lds_basics import (is_open_loop_stable, simulate)"
   ]
  },
  {
   "cell_type": "markdown",
   "metadata": {},
   "source": [
    "# Setup and Initial Analysis"
   ]
  },
  {
   "cell_type": "code",
   "execution_count": 3,
   "metadata": {},
   "outputs": [],
   "source": [
    "# DATA - adjust time to work well.\n",
    "A = np.array([[1, 1, 0],\n",
    "              [0, 1, 1],\n",
    "              [0, 0, 1]])\n",
    "B = np.array([[0, 0.5, 1]]).T\n",
    "C = np.array([[-1, 0, 1]])\n",
    "T = 100\n",
    "n=3\n",
    "m=1\n",
    "p=1\n",
    "U_max = 0.1\n",
    "y_des = np.zeros((150, 1)) # add extra zeros for receeding horizon instances\n",
    "y_des[29:69, :] = 10 #29-70 sets indices 29-68 to 10, corresponding to times t=30 to t = 69"
   ]
  },
  {
   "cell_type": "code",
   "execution_count": 40,
   "metadata": {},
   "outputs": [
    {
     "data": {
      "text/plain": [
       "(False, array([1., 1., 1.]))"
      ]
     },
     "execution_count": 40,
     "metadata": {},
     "output_type": "execute_result"
    }
   ],
   "source": [
    "is_open_loop_stable(A)"
   ]
  },
  {
   "cell_type": "code",
   "execution_count": 41,
   "metadata": {},
   "outputs": [],
   "source": [
    "x_init = np.zeros((n, 1))\n",
    "policy = np.zeros((m, T))\n",
    "state_traj = simulate(A, B, 1, T, x_init, policy)"
   ]
  },
  {
   "cell_type": "code",
   "execution_count": 42,
   "metadata": {},
   "outputs": [],
   "source": [
    "y_traj = np.array([C@state_traj[:, t] for t in range(1, T+1)])"
   ]
  },
  {
   "cell_type": "code",
   "execution_count": 43,
   "metadata": {},
   "outputs": [
    {
     "data": {
      "text/plain": [
       "(100, 1)"
      ]
     },
     "execution_count": 43,
     "metadata": {},
     "output_type": "execute_result"
    }
   ],
   "source": [
    "y_traj.shape"
   ]
  },
  {
   "cell_type": "code",
   "execution_count": 44,
   "metadata": {},
   "outputs": [
    {
     "data": {
      "text/plain": [
       "(3, 101)"
      ]
     },
     "execution_count": 44,
     "metadata": {},
     "output_type": "execute_result"
    }
   ],
   "source": [
    "state_traj.shape"
   ]
  },
  {
   "cell_type": "code",
   "execution_count": 45,
   "metadata": {},
   "outputs": [
    {
     "data": {
      "text/plain": [
       "(3, 101)"
      ]
     },
     "execution_count": 45,
     "metadata": {},
     "output_type": "execute_result"
    }
   ],
   "source": [
    "state_traj.shape"
   ]
  },
  {
   "cell_type": "code",
   "execution_count": 46,
   "metadata": {},
   "outputs": [
    {
     "data": {
      "image/png": "[encoded data removed]",
      "text/plain": [
       "<Figure size 640x480 with 1 Axes>"
      ]
     },
     "metadata": {},
     "output_type": "display_data"
    }
   ],
   "source": [
    "plt.plot(np.arange(T), y_traj.flatten())\n",
    "for i in range(state_traj.shape[0]):\n",
    "    plt.plot(np.arange(T+1), state_traj[i, :])"
   ]
  },
  {
   "cell_type": "markdown",
   "metadata": {},
   "source": [
    "# Solving"
   ]
  },
  {
   "cell_type": "markdown",
   "metadata": {},
   "source": [
    "## Optimal Output\n",
    "\n",
    "We first solve the problem with access to the entire output trajectory"
   ]
  },
  {
   "cell_type": "code",
   "execution_count": 47,
   "metadata": {},
   "outputs": [
    {
     "data": {
      "text/plain": [
       "112.41570012339267"
      ]
     },
     "execution_count": 47,
     "metadata": {},
     "output_type": "execute_result"
    }
   ],
   "source": [
    "# makes notes of where you've had to do weird things to make this work\n",
    "# makes notes of how you handle time\n",
    "x = cp.Variable((n, T+1))\n",
    "u = cp.Variable((m, T))\n",
    "\n",
    "'''\n",
    "(on website)\n",
    "Q: Can I use NumPy functions on CVXPY objects?\n",
    "A: No, you can only use CVXPY functions on CVXPY objects. If you use a NumPy function on a CVXPY object, it will probably fail in a confusing way.\n",
    "'''\n",
    "J_output = cp.sum_squares(cp.vstack([C@x[:, t] - y_des[t-1, :] for t in range(1, T+1)]))\n",
    "obj = cp.Minimize(J_output)\n",
    "\n",
    "constr = [x[:, 0]==np.zeros((n))]\n",
    "for t in range(T):\n",
    "    constr += [ x[:, t+1] == A@x[:, t] + B@u[:, t],\n",
    "                cp.norm(u[:, t], 'inf') <= U_max]\n",
    "\n",
    "prob = cp.Problem(obj, constr)\n",
    "prob.solve()"
   ]
  },
  {
   "cell_type": "markdown",
   "metadata": {},
   "source": [
    "## Model Predictive Control (Receeding Horizon) Implementation\n",
    "\n",
    "We now abstract the previous solution code to a MPC approach."
   ]
  },
  {
   "cell_type": "code",
   "execution_count": 48,
   "metadata": {},
   "outputs": [],
   "source": [
    "def solve(T, t, x_init):\n",
    "    x = cp.Variable((n, T+1))\n",
    "    u = cp.Variable((m, T))\n",
    "\n",
    "    J_output = cp.sum_squares(cp.vstack( [ C@x[:, tau] - y_des[tau + t - 1, :] \n",
    "                                          for tau in range(1, T+1) ] ))\n",
    "    obj = cp.Minimize(J_output)\n",
    "\n",
    "    constr = [x[:, 0] == x_init]\n",
    "    for tau in range(T):\n",
    "        constr += [ x[:, tau+1] == A@x[:, tau] + B@u[:, tau],\n",
    "                   cp.norm(u[:, tau], 'inf') <= U_max ]\n",
    "        \n",
    "    prob = cp.Problem(obj, constr)\n",
    "    prob.solve()\n",
    "    return (prob.value, u.value, x.value)"
   ]
  },
  {
   "cell_type": "code",
   "execution_count": 50,
   "metadata": {},
   "outputs": [],
   "source": [
    "def run_mpc(N, T):\n",
    "    x = np.zeros((n))\n",
    "    U_traj = np.zeros((m, T))\n",
    "    Y = np.zeros((p, T))\n",
    "    J_output = 0\n",
    "    \n",
    "    for t in range(T):\n",
    "        _, u, _ = solve(N, t, x)\n",
    "        U_traj[:, t] = u[:, 0]\n",
    "        x = A@x + B@u[:, 0]\n",
    "        y = C@x\n",
    "        Y[:, t] = y\n",
    "        J_output += cp.sum_squares(y - y_des[t, :]).value\n",
    "\n",
    "    return (J_output, Y)\n"
   ]
  },
  {
   "cell_type": "markdown",
   "metadata": {},
   "source": [
    "Test new solve function with full horizon (should have same solution as above)."
   ]
  },
  {
   "cell_type": "code",
   "execution_count": 51,
   "metadata": {},
   "outputs": [
    {
     "name": "stdout",
     "output_type": "stream",
     "text": [
      "112.41570012339267\n"
     ]
    }
   ],
   "source": [
    "sol, sol_u, sol_x = solve(100, 0, np.zeros((n))) # check with original\n",
    "print(sol)"
   ]
  },
  {
   "cell_type": "code",
   "execution_count": 52,
   "metadata": {},
   "outputs": [
    {
     "name": "stdout",
     "output_type": "stream",
     "text": [
      "365.4625802081616\n"
     ]
    }
   ],
   "source": [
    "cost8, y_traj8 = run_mpc(8, 100)\n",
    "print(cost8)"
   ]
  },
  {
   "cell_type": "code",
   "execution_count": 53,
   "metadata": {},
   "outputs": [
    {
     "name": "stdout",
     "output_type": "stream",
     "text": [
      "132.14628421262148\n"
     ]
    }
   ],
   "source": [
    "cost10, y_traj10 = run_mpc(10, 100)\n",
    "print(cost10)"
   ]
  },
  {
   "cell_type": "code",
   "execution_count": 54,
   "metadata": {},
   "outputs": [
    {
     "name": "stdout",
     "output_type": "stream",
     "text": [
      "119.32412237354521\n"
     ]
    }
   ],
   "source": [
    "cost12, y_traj12 = run_mpc(12, 100)\n",
    "print(cost12)"
   ]
  },
  {
   "cell_type": "code",
   "execution_count": 55,
   "metadata": {},
   "outputs": [],
   "source": [
    "# create output trajectory associated with optimal solution\n",
    "y_traj_opt = np.array([C@sol_x[:, t] for t in range(1, T+1)])"
   ]
  },
  {
   "cell_type": "code",
   "execution_count": 56,
   "metadata": {},
   "outputs": [
    {
     "data": {
      "image/png": "[encoded data removed]",
      "text/plain": [
       "<Figure size 640x480 with 1 Axes>"
      ]
     },
     "metadata": {},
     "output_type": "display_data"
    }
   ],
   "source": [
    "plt.plot(np.arange(len(y_des)), y_des, label=\"$y_{\\\\text{desired}}$\")\n",
    "plt.plot(np.arange(T), y_traj_opt.flatten(), label=\"$y_{\\\\text{opt}}$\")\n",
    "plt.plot(np.arange(T), y_traj8.flatten(), label=\"$y_{N=8}$\")\n",
    "plt.plot(np.arange(T), y_traj10.flatten(), label=\"$y_{N=10}$\")\n",
    "plt.plot(np.arange(T), y_traj12.flatten(), label=\"$y_{N=12}$\")\n",
    "\n",
    "plt.xlabel('$t$')\n",
    "plt.ylabel('$y(t)$')\n",
    "plt.xlim(right=100)\n",
    "# plt.title('Output Trajectories')\n",
    "plt.legend()\n",
    "\n",
    "plt.savefig('364b_mpc_output.pdf', bbox_inches='tight')\n",
    "\n",
    "plt.show()"
   ]
  }
 ],
 "metadata": {
  "kernelspec": {
   "display_name": "boyd_linear-algebra",
   "language": "python",
   "name": "python3"
  },
  "language_info": {
   "codemirror_mode": {
    "name": "ipython",
    "version": 3
   },
   "file_extension": ".py",
   "mimetype": "text/x-python",
   "name": "python",
   "nbconvert_exporter": "python",
   "pygments_lexer": "ipython3",
   "version": "3.11.7"
  }
 },
 "nbformat": 4,
 "nbformat_minor": 2
}
