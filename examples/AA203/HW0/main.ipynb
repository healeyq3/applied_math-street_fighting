{
 "cells": [
  {
   "cell_type": "code",
   "execution_count": 23,
   "metadata": {},
   "outputs": [],
   "source": [
    "import numpy as np\n",
    "import numpy.linalg as alg\n",
    "import matplotlib.pyplot as plt"
   ]
  },
  {
   "cell_type": "markdown",
   "metadata": {},
   "source": [
    "# Question 1"
   ]
  },
  {
   "cell_type": "code",
   "execution_count": 3,
   "metadata": {},
   "outputs": [
    {
     "data": {
      "text/plain": [
       "array([1.73205081+1.j, 1.73205081-1.j, 0.8       +0.j])"
      ]
     },
     "execution_count": 3,
     "metadata": {},
     "output_type": "execute_result"
    }
   ],
   "source": [
    "A = np.array([[4/5, 0, 0],\n",
    "              [0, np.sqrt(3), 1],\n",
    "              [0, -1, np.sqrt(3)]])\n",
    "alg.eigvals(A)"
   ]
  },
  {
   "cell_type": "code",
   "execution_count": 4,
   "metadata": {},
   "outputs": [],
   "source": [
    "eigenvalues, eigenvectors = alg.eig(A)"
   ]
  },
  {
   "cell_type": "code",
   "execution_count": 5,
   "metadata": {},
   "outputs": [
    {
     "data": {
      "text/plain": [
       "array([[0.        +0.j        , 0.        -0.j        ,\n",
       "        1.        +0.j        ],\n",
       "       [0.70710678+0.j        , 0.70710678-0.j        ,\n",
       "        0.        +0.j        ],\n",
       "       [0.        +0.70710678j, 0.        -0.70710678j,\n",
       "        0.        +0.j        ]])"
      ]
     },
     "execution_count": 5,
     "metadata": {},
     "output_type": "execute_result"
    }
   ],
   "source": [
    "eigenvectors"
   ]
  },
  {
   "cell_type": "code",
   "execution_count": 6,
   "metadata": {},
   "outputs": [
    {
     "data": {
      "text/plain": [
       "3"
      ]
     },
     "execution_count": 6,
     "metadata": {},
     "output_type": "execute_result"
    }
   ],
   "source": [
    "alg.matrix_rank(eigenvectors)"
   ]
  },
  {
   "cell_type": "code",
   "execution_count": 7,
   "metadata": {},
   "outputs": [
    {
     "name": "stdout",
     "output_type": "stream",
     "text": [
      "This system is unstable\n"
     ]
    }
   ],
   "source": [
    "is_stable = np.all(np.abs(eigenvalues) < 1)\n",
    "print(f\"This system is {'stable' if is_stable else 'unstable'}\")"
   ]
  },
  {
   "cell_type": "code",
   "execution_count": 8,
   "metadata": {},
   "outputs": [
    {
     "data": {
      "text/plain": [
       "array([1.73205081+1.j, 1.73205081-1.j, 0.8       +0.j])"
      ]
     },
     "execution_count": 8,
     "metadata": {},
     "output_type": "execute_result"
    }
   ],
   "source": [
    "eigenvalues"
   ]
  },
  {
   "cell_type": "code",
   "execution_count": 12,
   "metadata": {},
   "outputs": [
    {
     "data": {
      "text/plain": [
       "1.9999999999999998"
      ]
     },
     "execution_count": 12,
     "metadata": {},
     "output_type": "execute_result"
    }
   ],
   "source": [
    "abs(eigenvalues[0])"
   ]
  },
  {
   "cell_type": "code",
   "execution_count": null,
   "metadata": {},
   "outputs": [],
   "source": [
    "np.hstack()"
   ]
  },
  {
   "cell_type": "code",
   "execution_count": 13,
   "metadata": {},
   "outputs": [],
   "source": [
    "B = np.array([[0, 0], [1, 1], [1, 0]])"
   ]
  },
  {
   "cell_type": "code",
   "execution_count": 32,
   "metadata": {},
   "outputs": [],
   "source": [
    "def simulate_LDS(t: float, T: float, x_init: np.ndarray, policy: np.ndarray):\n",
    "    \"\"\"\n",
    "    t: float\n",
    "        Time step to iterate the LDS by.\n",
    "        units: seconds\n",
    "    T: float\n",
    "        Time Horizon of the problem.\n",
    "        units: Minutes\n",
    "    x_init: np.ndarray\n",
    "        Initial Condition of the LDS\n",
    "    \"\"\"\n",
    "    num_steps = int(T * 60 * t)\n",
    "    print(num_steps)\n",
    "    state_history = np.zeros((3, num_steps))\n",
    "    x_t = x_init\n",
    "    state_history[:, 0] = x_t.flatten()\n",
    "\n",
    "    for step in range(num_steps - 1):\n",
    "        x_t = A @ x_t + (B @ policy[:, step]).reshape((3, 1))\n",
    "        state_history[:, step+1] = x_t.flatten()\n",
    "    \n",
    "    return state_history"
   ]
  },
  {
   "cell_type": "code",
   "execution_count": 36,
   "metadata": {},
   "outputs": [
    {
     "name": "stdout",
     "output_type": "stream",
     "text": [
      "60\n"
     ]
    }
   ],
   "source": [
    "x1 = np.zeros((3, 1))\n",
    "x1[1, 0] = 1\n",
    "open_control=np.zeros((2, 119))\n",
    "open_loop_lds = simulate_LDS(1, 1, x1, open_control)"
   ]
  },
  {
   "cell_type": "code",
   "execution_count": 37,
   "metadata": {},
   "outputs": [
    {
     "data": {
      "image/png": "[encoded data removed]",
      "text/plain": [
       "<Figure size 640x480 with 1 Axes>"
      ]
     },
     "metadata": {},
     "output_type": "display_data"
    }
   ],
   "source": [
    "for i in range(open_loop_lds.shape[0]):\n",
    "    plt.plot(np.arange(60), open_loop_lds[i, :], label=f'$(x_t)_{i+1}$')\n",
    "\n",
    "plt.xlabel('$t$')\n",
    "plt.title('State Variables (open loop)')\n",
    "plt.legend()\n",
    "\n",
    "plt.show()"
   ]
  },
  {
   "cell_type": "code",
   "execution_count": null,
   "metadata": {},
   "outputs": [],
   "source": []
  }
 ],
 "metadata": {
  "kernelspec": {
   "display_name": "boyd_linear-algebra",
   "language": "python",
   "name": "python3"
  },
  "language_info": {
   "codemirror_mode": {
    "name": "ipython",
    "version": 3
   },
   "file_extension": ".py",
   "mimetype": "text/x-python",
   "name": "python",
   "nbconvert_exporter": "python",
   "pygments_lexer": "ipython3",
   "version": "3.11.7"
  }
 },
 "nbformat": 4,
 "nbformat_minor": 2
}
