{
 "cells": [
  {
   "cell_type": "code",
   "execution_count": 1,
   "metadata": {},
   "outputs": [],
   "source": [
    "from math import (cos, sin)\n",
    "from functools import partial\n",
    "\n",
    "from levenberg_marquardt import solve\n",
    "\n",
    "import numpy as np\n",
    "import matplotlib.pyplot as plt"
   ]
  },
  {
   "cell_type": "markdown",
   "metadata": {},
   "source": [
    "# Helper Functions"
   ]
  },
  {
   "cell_type": "code",
   "execution_count": 2,
   "metadata": {},
   "outputs": [],
   "source": [
    "def f(theta: np.ndarray, p_des: np.ndarray, L1: float, L2: float):\n",
    "    theta_1 = theta[0, 0]\n",
    "    theta_2 = theta[1, 0]\n",
    "    p = L1*np.array([[cos(theta_1)],\n",
    "                            [sin(theta_1)]]) +\\\n",
    "             L2*np.array([[cos(theta_1 + theta_2)],\n",
    "                            [sin(theta_1 + theta_2)]])\n",
    "    return p - p_des"
   ]
  },
  {
   "cell_type": "code",
   "execution_count": 3,
   "metadata": {},
   "outputs": [],
   "source": [
    "def f_jacob(theta, L1, L2):\n",
    "    theta_1 = theta[0, 0]\n",
    "    theta_2 = theta[1, 0]\n",
    "    d_f1_d_theta1 = -L1*sin(theta_1) - L2*sin(theta_1 + theta_2)\n",
    "    d_f1_d_theta2 = -L2*sin(theta_1 + theta_2)\n",
    "    d_f2_d_theta1 = L1*cos(theta_1) + L2*cos(theta_1 + theta_2)\n",
    "    d_f2_d_theta2 = L2*cos(theta_1 + theta_2)\n",
    "    jacobian = np.array([[d_f1_d_theta1, d_f1_d_theta2],\n",
    "                           [d_f2_d_theta1, d_f2_d_theta2]])\n",
    "    return jacobian"
   ]
  },
  {
   "cell_type": "markdown",
   "metadata": {},
   "source": [
    "# Instatiating Problems"
   ]
  },
  {
   "cell_type": "markdown",
   "metadata": {},
   "source": [
    "## Endpoint 1"
   ]
  },
  {
   "cell_type": "code",
   "execution_count": 4,
   "metadata": {},
   "outputs": [],
   "source": [
    "end1 = np.array([[1], [1/2]])\n",
    "f_to_pass = partial(f, p_des=end1, L1=2, L2=1)\n",
    "jacob_to_pass = partial(f_jacob, L1=2, L2=1)"
   ]
  },
  {
   "cell_type": "code",
   "execution_count": 5,
   "metadata": {},
   "outputs": [],
   "source": [
    "x_init = np.zeros((2, 1))\n",
    "soln, was_solved, soln_traj, costs = solve(x_init, lm0=1,max_iter=100,\n",
    "                                           f=f_to_pass, Df=jacob_to_pass,\n",
    "                                           verbose=True)"
   ]
  },
  {
   "cell_type": "code",
   "execution_count": 14,
   "metadata": {},
   "outputs": [],
   "source": [
    "new_func = partial(f, p_des=end1, L1=2, L2=1)"
   ]
  },
  {
   "cell_type": "code",
   "execution_count": 15,
   "metadata": {},
   "outputs": [
    {
     "ename": "TypeError",
     "evalue": "'list' object cannot be interpreted as an integer",
     "output_type": "error",
     "traceback": [
      "\u001b[0;31m---------------------------------------------------------------------------\u001b[0m",
      "\u001b[0;31mTypeError\u001b[0m                                 Traceback (most recent call last)",
      "Cell \u001b[0;32mIn[15], line 1\u001b[0m\n\u001b[0;32m----> 1\u001b[0m new_func(x_init)\n",
      "Cell \u001b[0;32mIn[10], line 4\u001b[0m, in \u001b[0;36mf\u001b[0;34m(theta, p_des, L1, L2)\u001b[0m\n\u001b[1;32m      2\u001b[0m theta_1 \u001b[38;5;241m=\u001b[39m theta[\u001b[38;5;241m0\u001b[39m, \u001b[38;5;241m0\u001b[39m]\n\u001b[1;32m      3\u001b[0m theta_2 \u001b[38;5;241m=\u001b[39m theta[\u001b[38;5;241m1\u001b[39m, \u001b[38;5;241m0\u001b[39m]\n\u001b[0;32m----> 4\u001b[0m p \u001b[38;5;241m=\u001b[39m L1\u001b[38;5;241m*\u001b[39mnp\u001b[38;5;241m.\u001b[39mndarray([[cos(theta_1)],\n\u001b[1;32m      5\u001b[0m                         [sin(theta_1)]]) \u001b[38;5;241m+\u001b[39m\\\n\u001b[1;32m      6\u001b[0m          L2\u001b[38;5;241m*\u001b[39mnp\u001b[38;5;241m.\u001b[39mndarray([[cos(theta_1 \u001b[38;5;241m+\u001b[39m theta_2)],\n\u001b[1;32m      7\u001b[0m                         [sin(theta_1 \u001b[38;5;241m+\u001b[39m theta_2)]])\n\u001b[1;32m      8\u001b[0m \u001b[38;5;28;01mreturn\u001b[39;00m p \u001b[38;5;241m-\u001b[39m p_des\n",
      "\u001b[0;31mTypeError\u001b[0m: 'list' object cannot be interpreted as an integer"
     ]
    }
   ],
   "source": [
    "new_func(x_init)"
   ]
  },
  {
   "cell_type": "code",
   "execution_count": 6,
   "metadata": {},
   "outputs": [
    {
     "data": {
      "text/plain": [
       "False"
      ]
     },
     "execution_count": 6,
     "metadata": {},
     "output_type": "execute_result"
    }
   ],
   "source": [
    "was_solved"
   ]
  },
  {
   "cell_type": "code",
   "execution_count": 8,
   "metadata": {},
   "outputs": [
    {
     "data": {
      "image/png": "[encoded data removed]",
      "text/plain": [
       "<Figure size 640x480 with 1 Axes>"
      ]
     },
     "metadata": {},
     "output_type": "display_data"
    }
   ],
   "source": [
    "plt.plot(np.arange(20), costs[0:20])\n",
    "plt.show()"
   ]
  },
  {
   "cell_type": "code",
   "execution_count": null,
   "metadata": {},
   "outputs": [],
   "source": []
  }
 ],
 "metadata": {
  "kernelspec": {
   "display_name": "boyd_linear-algebra",
   "language": "python",
   "name": "python3"
  },
  "language_info": {
   "codemirror_mode": {
    "name": "ipython",
    "version": 3
   },
   "file_extension": ".py",
   "mimetype": "text/x-python",
   "name": "python",
   "nbconvert_exporter": "python",
   "pygments_lexer": "ipython3",
   "version": "3.11.7"
  }
 },
 "nbformat": 4,
 "nbformat_minor": 2
}
